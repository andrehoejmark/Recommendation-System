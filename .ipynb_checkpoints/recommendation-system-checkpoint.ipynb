{
 "cells": [
  {
   "cell_type": "code",
   "execution_count": 35,
   "id": "27f12a79",
   "metadata": {},
   "outputs": [],
   "source": [
    "import pandas as pd\n",
    "import numpy as np\n",
    "import torch\n",
    "import torch.nn.functional as F\n",
    "import torch.nn as nn\n",
    "import torch.optim as optim\n",
    "from sklearn import model_selection"
   ]
  },
  {
   "cell_type": "markdown",
   "id": "4b9a2ddb",
   "metadata": {},
   "source": [
    "# Matrix Factorization"
   ]
  },
  {
   "cell_type": "code",
   "execution_count": 36,
   "id": "1f35215a",
   "metadata": {},
   "outputs": [],
   "source": [
    "df = pd.read_csv('datasets/df_modcloth.csv')"
   ]
  },
  {
   "cell_type": "code",
   "execution_count": 37,
   "id": "c03365e8",
   "metadata": {},
   "outputs": [
    {
     "data": {
      "text/html": [
       "<div>\n",
       "<style scoped>\n",
       "    .dataframe tbody tr th:only-of-type {\n",
       "        vertical-align: middle;\n",
       "    }\n",
       "\n",
       "    .dataframe tbody tr th {\n",
       "        vertical-align: top;\n",
       "    }\n",
       "\n",
       "    .dataframe thead th {\n",
       "        text-align: right;\n",
       "    }\n",
       "</style>\n",
       "<table border=\"1\" class=\"dataframe\">\n",
       "  <thead>\n",
       "    <tr style=\"text-align: right;\">\n",
       "      <th></th>\n",
       "      <th>item_id</th>\n",
       "      <th>user_id</th>\n",
       "      <th>rating</th>\n",
       "      <th>timestamp</th>\n",
       "      <th>size</th>\n",
       "      <th>fit</th>\n",
       "      <th>user_attr</th>\n",
       "      <th>model_attr</th>\n",
       "      <th>category</th>\n",
       "      <th>brand</th>\n",
       "      <th>year</th>\n",
       "      <th>split</th>\n",
       "    </tr>\n",
       "  </thead>\n",
       "  <tbody>\n",
       "    <tr>\n",
       "      <th>0</th>\n",
       "      <td>7443</td>\n",
       "      <td>Alex</td>\n",
       "      <td>4</td>\n",
       "      <td>2010-01-21 08:00:00+00:00</td>\n",
       "      <td>NaN</td>\n",
       "      <td>NaN</td>\n",
       "      <td>Small</td>\n",
       "      <td>Small</td>\n",
       "      <td>Dresses</td>\n",
       "      <td>NaN</td>\n",
       "      <td>2012</td>\n",
       "      <td>0</td>\n",
       "    </tr>\n",
       "    <tr>\n",
       "      <th>1</th>\n",
       "      <td>7443</td>\n",
       "      <td>carolyn.agan</td>\n",
       "      <td>3</td>\n",
       "      <td>2010-01-27 08:00:00+00:00</td>\n",
       "      <td>NaN</td>\n",
       "      <td>NaN</td>\n",
       "      <td>NaN</td>\n",
       "      <td>Small</td>\n",
       "      <td>Dresses</td>\n",
       "      <td>NaN</td>\n",
       "      <td>2012</td>\n",
       "      <td>0</td>\n",
       "    </tr>\n",
       "    <tr>\n",
       "      <th>2</th>\n",
       "      <td>7443</td>\n",
       "      <td>Robyn</td>\n",
       "      <td>4</td>\n",
       "      <td>2010-01-29 08:00:00+00:00</td>\n",
       "      <td>NaN</td>\n",
       "      <td>NaN</td>\n",
       "      <td>Small</td>\n",
       "      <td>Small</td>\n",
       "      <td>Dresses</td>\n",
       "      <td>NaN</td>\n",
       "      <td>2012</td>\n",
       "      <td>0</td>\n",
       "    </tr>\n",
       "  </tbody>\n",
       "</table>\n",
       "</div>"
      ],
      "text/plain": [
       "   item_id       user_id  rating                  timestamp  size  fit  \\\n",
       "0     7443          Alex       4  2010-01-21 08:00:00+00:00   NaN  NaN   \n",
       "1     7443  carolyn.agan       3  2010-01-27 08:00:00+00:00   NaN  NaN   \n",
       "2     7443         Robyn       4  2010-01-29 08:00:00+00:00   NaN  NaN   \n",
       "\n",
       "  user_attr model_attr category brand  year  split  \n",
       "0     Small      Small  Dresses   NaN  2012      0  \n",
       "1       NaN      Small  Dresses   NaN  2012      0  \n",
       "2     Small      Small  Dresses   NaN  2012      0  "
      ]
     },
     "execution_count": 37,
     "metadata": {},
     "output_type": "execute_result"
    }
   ],
   "source": [
    "df.head(3)"
   ]
  },
  {
   "cell_type": "markdown",
   "id": "e1120a0c",
   "metadata": {},
   "source": [
    "# Preprocessing"
   ]
  },
  {
   "cell_type": "code",
   "execution_count": 38,
   "id": "114bdd4e",
   "metadata": {},
   "outputs": [],
   "source": [
    "# here is a handy function modified from fast.ai\n",
    "def proc_col(col, train_col=None):\n",
    "    \"\"\"Encodes a pandas column with continous ids. \n",
    "    \"\"\"\n",
    "    if train_col is not None:\n",
    "        uniq = train_col.unique()\n",
    "    else:\n",
    "        uniq = col.unique()\n",
    "    name2idx = {o:i for i,o in enumerate(uniq)}\n",
    "    return name2idx, np.array([name2idx.get(x, -1) for x in col]), len(uniq)\n",
    "\n",
    "# Reference: https://github.com/yanneta/pytorch-tutorials/blob/master/collaborative-filtering-nn.ipynb"
   ]
  },
  {
   "cell_type": "code",
   "execution_count": 39,
   "id": "1e8893b7",
   "metadata": {},
   "outputs": [],
   "source": [
    "def encode_data(df, train=None):\n",
    "    \"\"\" Encodes rating data with continous user and movie ids. \n",
    "    If train is provided, encodes df with the same encoding as train.\n",
    "    \"\"\"\n",
    "    df = df.copy()\n",
    "    for col_name in [\"user_id\", \"item_id\"]:\n",
    "        train_col = None\n",
    "        if train is not None:\n",
    "            train_col = train[col_name]\n",
    "        _,col,_ = proc_col(df[col_name], train_col)\n",
    "        df[col_name] = col\n",
    "        df = df[df[col_name] >= 0]\n",
    "    return df\n",
    "\n",
    "# Reference https://github.com/yanneta/pytorch-tutorials/blob/master/collaborative-filtering-nn.ipynb"
   ]
  },
  {
   "cell_type": "code",
   "execution_count": 40,
   "id": "3efc3970",
   "metadata": {},
   "outputs": [
    {
     "data": {
      "text/plain": [
       "item_id           0\n",
       "user_id           1\n",
       "rating            0\n",
       "timestamp         0\n",
       "size          21760\n",
       "fit           18506\n",
       "user_attr      8367\n",
       "model_attr        0\n",
       "category          0\n",
       "brand         73980\n",
       "year              0\n",
       "split             0\n",
       "dtype: int64"
      ]
     },
     "execution_count": 40,
     "metadata": {},
     "output_type": "execute_result"
    }
   ],
   "source": [
    "# number of values that are null in each column\n",
    "df.isnull().sum(axis = 0)"
   ]
  },
  {
   "cell_type": "code",
   "execution_count": 41,
   "id": "ba1b58c5",
   "metadata": {},
   "outputs": [],
   "source": [
    "# specifially looking at item_id and user_id because those are the two columns that will be used in the matrix factorization\n",
    "df = df.dropna(subset=['user_id'])"
   ]
  },
  {
   "cell_type": "code",
   "execution_count": 71,
   "id": "3946e853",
   "metadata": {},
   "outputs": [],
   "source": [
    "training_data, validation_data = model_selection.train_test_split(df, test_size=0.2, random_state=12, stratify=df.rating.values)"
   ]
  },
  {
   "cell_type": "code",
   "execution_count": 72,
   "id": "56f20223",
   "metadata": {},
   "outputs": [],
   "source": [
    "train_data = encode_data(training_data)\n",
    "val_data = encode_data(training_data, validation_data)"
   ]
  },
  {
   "cell_type": "code",
   "execution_count": 43,
   "id": "8fabe721",
   "metadata": {},
   "outputs": [
    {
     "data": {
      "text/html": [
       "<div>\n",
       "<style scoped>\n",
       "    .dataframe tbody tr th:only-of-type {\n",
       "        vertical-align: middle;\n",
       "    }\n",
       "\n",
       "    .dataframe tbody tr th {\n",
       "        vertical-align: top;\n",
       "    }\n",
       "\n",
       "    .dataframe thead th {\n",
       "        text-align: right;\n",
       "    }\n",
       "</style>\n",
       "<table border=\"1\" class=\"dataframe\">\n",
       "  <thead>\n",
       "    <tr style=\"text-align: right;\">\n",
       "      <th></th>\n",
       "      <th>item_id</th>\n",
       "      <th>user_id</th>\n",
       "      <th>rating</th>\n",
       "      <th>timestamp</th>\n",
       "      <th>size</th>\n",
       "      <th>fit</th>\n",
       "      <th>user_attr</th>\n",
       "      <th>model_attr</th>\n",
       "      <th>category</th>\n",
       "      <th>brand</th>\n",
       "      <th>year</th>\n",
       "      <th>split</th>\n",
       "    </tr>\n",
       "  </thead>\n",
       "  <tbody>\n",
       "    <tr>\n",
       "      <th>72588</th>\n",
       "      <td>0</td>\n",
       "      <td>0</td>\n",
       "      <td>3</td>\n",
       "      <td>2017-02-10 08:00:00+00:00</td>\n",
       "      <td>NaN</td>\n",
       "      <td>Slightly small</td>\n",
       "      <td>NaN</td>\n",
       "      <td>Small</td>\n",
       "      <td>Bottoms</td>\n",
       "      <td>NaN</td>\n",
       "      <td>2018</td>\n",
       "      <td>0</td>\n",
       "    </tr>\n",
       "    <tr>\n",
       "      <th>10355</th>\n",
       "      <td>1</td>\n",
       "      <td>1</td>\n",
       "      <td>5</td>\n",
       "      <td>2013-11-17 08:00:00+00:00</td>\n",
       "      <td>5.0</td>\n",
       "      <td>Just right</td>\n",
       "      <td>Large</td>\n",
       "      <td>Small&amp;Large</td>\n",
       "      <td>Dresses</td>\n",
       "      <td>NaN</td>\n",
       "      <td>2012</td>\n",
       "      <td>2</td>\n",
       "    </tr>\n",
       "    <tr>\n",
       "      <th>90708</th>\n",
       "      <td>2</td>\n",
       "      <td>2</td>\n",
       "      <td>3</td>\n",
       "      <td>2018-06-16 19:13:07.131000+00:00</td>\n",
       "      <td>1.0</td>\n",
       "      <td>NaN</td>\n",
       "      <td>Small</td>\n",
       "      <td>Small</td>\n",
       "      <td>Bottoms</td>\n",
       "      <td>ModCloth</td>\n",
       "      <td>2018</td>\n",
       "      <td>0</td>\n",
       "    </tr>\n",
       "  </tbody>\n",
       "</table>\n",
       "</div>"
      ],
      "text/plain": [
       "       item_id  user_id  rating                         timestamp  size  \\\n",
       "72588        0        0       3         2017-02-10 08:00:00+00:00   NaN   \n",
       "10355        1        1       5         2013-11-17 08:00:00+00:00   5.0   \n",
       "90708        2        2       3  2018-06-16 19:13:07.131000+00:00   1.0   \n",
       "\n",
       "                  fit user_attr   model_attr category     brand  year  split  \n",
       "72588  Slightly small       NaN        Small  Bottoms       NaN  2018      0  \n",
       "10355      Just right     Large  Small&Large  Dresses       NaN  2012      2  \n",
       "90708             NaN     Small        Small  Bottoms  ModCloth  2018      0  "
      ]
     },
     "execution_count": 43,
     "metadata": {},
     "output_type": "execute_result"
    }
   ],
   "source": [
    "# After encode_data the values will be continous\n",
    "training_data[0:3]"
   ]
  },
  {
   "cell_type": "code",
   "execution_count": 44,
   "id": "377c0432",
   "metadata": {},
   "outputs": [],
   "source": [
    "class MF(nn.Module):\n",
    "    def __init__(self, num_users, num_items, emb_size=150):\n",
    "        super(MF, self).__init__()\n",
    "        self.user_emb = nn.Embedding(num_users, 150)\n",
    "        self.item_emb = nn.Embedding(num_items, 150)\n",
    "        self.user_emb.weight.data.uniform_(0, 0.1)\n",
    "        self.item_emb.weight.data.uniform_(0, 0.1)\n",
    "    \n",
    "    def forward(self, u, v):\n",
    "        u = self.user_emb(u)\n",
    "        v = self.item_emb(v)\n",
    "        return (u*v).sum(1)"
   ]
  },
  {
   "cell_type": "code",
   "execution_count": 45,
   "id": "09d919ce",
   "metadata": {},
   "outputs": [],
   "source": [
    "num_unique_users = len(set(df_train.user_id.values))\n",
    "num_unique_movies = len(set(df_train.item_id.values))"
   ]
  },
  {
   "cell_type": "code",
   "execution_count": 46,
   "id": "85de5983",
   "metadata": {},
   "outputs": [],
   "source": [
    "net = MF(num_unique_users, num_unique_movies)"
   ]
  },
  {
   "cell_type": "code",
   "execution_count": 47,
   "id": "f0ab7451",
   "metadata": {},
   "outputs": [],
   "source": [
    "loss_function = nn.MSELoss(reduction='none')"
   ]
  },
  {
   "cell_type": "code",
   "execution_count": 75,
   "id": "54eb272a",
   "metadata": {},
   "outputs": [],
   "source": [
    "def test_loss(model):\n",
    "    model.eval()\n",
    "    users = torch.LongTensor(val_data.user_id.values)\n",
    "    items = torch.LongTensor(val_data.item_id.values)\n",
    "    ratings = torch.FloatTensor(val_data.rating.values)\n",
    "\n",
    "    y_hat = model(users, items)\n",
    "    \n",
    "    print(y_hat)\n",
    "    \n",
    "    count = 0\n",
    "    for i in range(len(y_hat)):\n",
    "        \n",
    "        diff = np.abs(y_hat[i].detach().numpy() - ratings[i].detach().numpy())\n",
    "        if round(diff) == 0 or round(diff) == 1:\n",
    "            count += 1\n",
    "    print(\"Accuracy: \", 100*count / len(y_hat), \"%\")\n",
    "\n",
    "    loss = F.mse_loss(y_hat, ratings)\n",
    "    print(\"test loss %.3f \" % loss.item())"
   ]
  },
  {
   "cell_type": "code",
   "execution_count": 76,
   "id": "4bb804a6",
   "metadata": {},
   "outputs": [],
   "source": [
    "def train_epocs(model, epochs=10, lr=0.01, wd=0.0):\n",
    "    opt = torch.optim.Adam(model.parameters(), lr=lr, weight_decay=wd)\n",
    "    model.train()\n",
    "    for i in range(epochs):\n",
    "        users = torch.LongTensor(train_data.user_id.values)\n",
    "        items = torch.LongTensor(train_data.item_id.values)\n",
    "        ratings = torch.FloatTensor(train_data.rating.values)\n",
    "        \n",
    "        y_hat = model(users, items)\n",
    "        #print(\"y_hat:\", y_hat, y_hat.shape)\n",
    "        loss = F.mse_loss(y_hat, ratings)\n",
    "        opt.zero_grad()\n",
    "        loss.backward()\n",
    "        opt.step()\n",
    "        print(loss.item())\n",
    "    test_loss(model)"
   ]
  },
  {
   "cell_type": "code",
   "execution_count": 77,
   "id": "f1bf4fa3",
   "metadata": {
    "scrolled": true
   },
   "outputs": [
    {
     "name": "stdout",
     "output_type": "stream",
     "text": [
      "0.32015058398246765\n",
      "0.3441174328327179\n",
      "0.2792914807796478\n",
      "0.26902344822883606\n",
      "0.25819703936576843\n",
      "0.23449549078941345\n",
      "0.21149159967899323\n",
      "0.1982901245355606\n",
      "0.19043636322021484\n",
      "0.1786573827266693\n",
      "0.16411304473876953\n",
      "0.15251196920871735\n",
      "0.14416883885860443\n",
      "0.13625268638134003\n",
      "0.12750934064388275\n",
      "tensor([0.7724, 6.0033, 3.8978,  ..., 3.2061, 5.3983, 4.8739],\n",
      "       grad_fn=<SumBackward1>)\n",
      "Accuracy:  0.7177813576269303\n",
      "test loss 2.245 \n"
     ]
    }
   ],
   "source": [
    "train_epocs(net, epochs=15, lr=0.01)"
   ]
  },
  {
   "cell_type": "code",
   "execution_count": null,
   "id": "ae84e339",
   "metadata": {},
   "outputs": [],
   "source": []
  },
  {
   "cell_type": "code",
   "execution_count": null,
   "id": "3945c6d8",
   "metadata": {},
   "outputs": [],
   "source": []
  }
 ],
 "metadata": {
  "hide_input": false,
  "kernelspec": {
   "display_name": "Python 3",
   "language": "python",
   "name": "python3"
  },
  "language_info": {
   "codemirror_mode": {
    "name": "ipython",
    "version": 3
   },
   "file_extension": ".py",
   "mimetype": "text/x-python",
   "name": "python",
   "nbconvert_exporter": "python",
   "pygments_lexer": "ipython3",
   "version": "3.8.2"
  },
  "latex_envs": {
   "LaTeX_envs_menu_present": true,
   "autoclose": false,
   "autocomplete": true,
   "bibliofile": "biblio.bib",
   "cite_by": "apalike",
   "current_citInitial": 1,
   "eqLabelWithNumbers": true,
   "eqNumInitial": 1,
   "hotkeys": {
    "equation": "Ctrl-E",
    "itemize": "Ctrl-I"
   },
   "labels_anchors": false,
   "latex_user_defs": false,
   "report_style_numbering": false,
   "user_envs_cfg": false
  }
 },
 "nbformat": 4,
 "nbformat_minor": 5
}
